{
 "cells": [
  {
   "cell_type": "markdown",
   "metadata": {
    "id": "eYvCczy6lTt7"
   },
   "source": [
    "# Livro para consulta:\n",
    "- https://jakevdp.github.io/PythonDataScienceHandbook/03.08-aggregation-and-grouping.html\n",
    "- https://jakevdp.github.io/PythonDataScienceHandbook/03.09-pivot-tables.html\n",
    "    "
   ]
  },
  {
   "cell_type": "markdown",
   "metadata": {
    "id": "oeWprAfnlTt-"
   },
   "source": [
    "# 1. Importando bibliotecas <a name=\"import\"></a>\n",
    "\n",
    "<div style=\"text-align: right\"\n",
    "     \n",
    "[Voltar ao índice](#Contents)"
   ]
  },
  {
   "cell_type": "code",
   "execution_count": 16,
   "metadata": {
    "ExecuteTime": {
     "end_time": "2021-06-06T21:12:37.298706Z",
     "start_time": "2021-06-06T21:12:36.656481Z"
    },
    "id": "y_9gYudilTt_"
   },
   "outputs": [],
   "source": [
    "import numpy as np\n",
    "import pandas as pd\n",
    "import seaborn as sns\n",
    "import matplotlib.pyplot as plt\n",
    "\n",
    "%matplotlib inline"
   ]
  },
  {
   "cell_type": "code",
   "execution_count": null,
   "metadata": {
    "id": "1yNG4iFTlTuA"
   },
   "outputs": [],
   "source": []
  },
  {
   "cell_type": "markdown",
   "metadata": {
    "id": "-cpxC-IBlTuA"
   },
   "source": [
    "# 2. Carregando o dataframe SINASC <a name=\"read\"></a>\n",
    "<div style=\"text-align: right\"\n",
    "     \n",
    "[Voltar ao índice](#Contents)"
   ]
  },
  {
   "cell_type": "code",
   "execution_count": 20,
   "metadata": {
    "ExecuteTime": {
     "end_time": "2021-06-06T21:12:37.762376Z",
     "start_time": "2021-06-06T21:12:37.728383Z"
    },
    "id": "nQZn7u4DlTuB",
    "outputId": "74b44036-69d9-4139-b291-621d77ed331b",
    "scrolled": true
   },
   "outputs": [
    {
     "data": {
      "text/html": [
       "<div>\n",
       "<style scoped>\n",
       "    .dataframe tbody tr th:only-of-type {\n",
       "        vertical-align: middle;\n",
       "    }\n",
       "\n",
       "    .dataframe tbody tr th {\n",
       "        vertical-align: top;\n",
       "    }\n",
       "\n",
       "    .dataframe thead th {\n",
       "        text-align: right;\n",
       "    }\n",
       "</style>\n",
       "<table border=\"1\" class=\"dataframe\">\n",
       "  <thead>\n",
       "    <tr style=\"text-align: right;\">\n",
       "      <th></th>\n",
       "      <th>ORIGEM</th>\n",
       "      <th>CODESTAB</th>\n",
       "      <th>CODMUNNASC</th>\n",
       "      <th>LOCNASC</th>\n",
       "      <th>IDADEMAE</th>\n",
       "      <th>ESTCIVMAE</th>\n",
       "      <th>ESCMAE</th>\n",
       "      <th>CODOCUPMAE</th>\n",
       "      <th>QTDFILVIVO</th>\n",
       "      <th>QTDFILMORT</th>\n",
       "      <th>...</th>\n",
       "      <th>KOTELCHUCK</th>\n",
       "      <th>CONTADOR</th>\n",
       "      <th>munResStatus</th>\n",
       "      <th>munResTipo</th>\n",
       "      <th>munResNome</th>\n",
       "      <th>munResUf</th>\n",
       "      <th>munResLat</th>\n",
       "      <th>munResLon</th>\n",
       "      <th>munResAlt</th>\n",
       "      <th>munResArea</th>\n",
       "    </tr>\n",
       "  </thead>\n",
       "  <tbody>\n",
       "    <tr>\n",
       "      <th>0</th>\n",
       "      <td>1</td>\n",
       "      <td>2679477.0</td>\n",
       "      <td>110001</td>\n",
       "      <td>1</td>\n",
       "      <td>19</td>\n",
       "      <td>5.0</td>\n",
       "      <td>8 a 11 anos</td>\n",
       "      <td>NaN</td>\n",
       "      <td>0.0</td>\n",
       "      <td>0.0</td>\n",
       "      <td>...</td>\n",
       "      <td>5</td>\n",
       "      <td>1</td>\n",
       "      <td>ATIVO</td>\n",
       "      <td>MUNIC</td>\n",
       "      <td>Alta Floresta D'Oeste</td>\n",
       "      <td>Rondônia</td>\n",
       "      <td>-11.93554</td>\n",
       "      <td>-61.99982</td>\n",
       "      <td>338.0</td>\n",
       "      <td>7067.025</td>\n",
       "    </tr>\n",
       "    <tr>\n",
       "      <th>1</th>\n",
       "      <td>1</td>\n",
       "      <td>2679477.0</td>\n",
       "      <td>110001</td>\n",
       "      <td>1</td>\n",
       "      <td>29</td>\n",
       "      <td>2.0</td>\n",
       "      <td>8 a 11 anos</td>\n",
       "      <td>999992.0</td>\n",
       "      <td>1.0</td>\n",
       "      <td>0.0</td>\n",
       "      <td>...</td>\n",
       "      <td>5</td>\n",
       "      <td>2</td>\n",
       "      <td>ATIVO</td>\n",
       "      <td>MUNIC</td>\n",
       "      <td>Alta Floresta D'Oeste</td>\n",
       "      <td>Rondônia</td>\n",
       "      <td>-11.93554</td>\n",
       "      <td>-61.99982</td>\n",
       "      <td>338.0</td>\n",
       "      <td>7067.025</td>\n",
       "    </tr>\n",
       "    <tr>\n",
       "      <th>2</th>\n",
       "      <td>1</td>\n",
       "      <td>2679477.0</td>\n",
       "      <td>110001</td>\n",
       "      <td>1</td>\n",
       "      <td>37</td>\n",
       "      <td>9.0</td>\n",
       "      <td>8 a 11 anos</td>\n",
       "      <td>513205.0</td>\n",
       "      <td>2.0</td>\n",
       "      <td>0.0</td>\n",
       "      <td>...</td>\n",
       "      <td>5</td>\n",
       "      <td>3</td>\n",
       "      <td>ATIVO</td>\n",
       "      <td>MUNIC</td>\n",
       "      <td>Alta Floresta D'Oeste</td>\n",
       "      <td>Rondônia</td>\n",
       "      <td>-11.93554</td>\n",
       "      <td>-61.99982</td>\n",
       "      <td>338.0</td>\n",
       "      <td>7067.025</td>\n",
       "    </tr>\n",
       "    <tr>\n",
       "      <th>3</th>\n",
       "      <td>1</td>\n",
       "      <td>2516500.0</td>\n",
       "      <td>110001</td>\n",
       "      <td>1</td>\n",
       "      <td>30</td>\n",
       "      <td>5.0</td>\n",
       "      <td>12 anos ou mais</td>\n",
       "      <td>231205.0</td>\n",
       "      <td>0.0</td>\n",
       "      <td>0.0</td>\n",
       "      <td>...</td>\n",
       "      <td>4</td>\n",
       "      <td>4</td>\n",
       "      <td>ATIVO</td>\n",
       "      <td>MUNIC</td>\n",
       "      <td>Alto Alegre dos Parecis</td>\n",
       "      <td>Rondônia</td>\n",
       "      <td>-12.13178</td>\n",
       "      <td>-61.85308</td>\n",
       "      <td>397.0</td>\n",
       "      <td>3958.273</td>\n",
       "    </tr>\n",
       "    <tr>\n",
       "      <th>4</th>\n",
       "      <td>1</td>\n",
       "      <td>2516500.0</td>\n",
       "      <td>110001</td>\n",
       "      <td>1</td>\n",
       "      <td>30</td>\n",
       "      <td>2.0</td>\n",
       "      <td>8 a 11 anos</td>\n",
       "      <td>999992.0</td>\n",
       "      <td>1.0</td>\n",
       "      <td>0.0</td>\n",
       "      <td>...</td>\n",
       "      <td>5</td>\n",
       "      <td>5</td>\n",
       "      <td>ATIVO</td>\n",
       "      <td>MUNIC</td>\n",
       "      <td>Alta Floresta D'Oeste</td>\n",
       "      <td>Rondônia</td>\n",
       "      <td>-11.93554</td>\n",
       "      <td>-61.99982</td>\n",
       "      <td>338.0</td>\n",
       "      <td>7067.025</td>\n",
       "    </tr>\n",
       "  </tbody>\n",
       "</table>\n",
       "<p>5 rows × 69 columns</p>\n",
       "</div>"
      ],
      "text/plain": [
       "   ORIGEM   CODESTAB  CODMUNNASC  LOCNASC  IDADEMAE  ESTCIVMAE  \\\n",
       "0       1  2679477.0      110001        1        19        5.0   \n",
       "1       1  2679477.0      110001        1        29        2.0   \n",
       "2       1  2679477.0      110001        1        37        9.0   \n",
       "3       1  2516500.0      110001        1        30        5.0   \n",
       "4       1  2516500.0      110001        1        30        2.0   \n",
       "\n",
       "            ESCMAE  CODOCUPMAE  QTDFILVIVO  QTDFILMORT  ...  KOTELCHUCK  \\\n",
       "0      8 a 11 anos         NaN         0.0         0.0  ...           5   \n",
       "1      8 a 11 anos    999992.0         1.0         0.0  ...           5   \n",
       "2      8 a 11 anos    513205.0         2.0         0.0  ...           5   \n",
       "3  12 anos ou mais    231205.0         0.0         0.0  ...           4   \n",
       "4      8 a 11 anos    999992.0         1.0         0.0  ...           5   \n",
       "\n",
       "  CONTADOR munResStatus munResTipo               munResNome  munResUf  \\\n",
       "0        1        ATIVO      MUNIC    Alta Floresta D'Oeste  Rondônia   \n",
       "1        2        ATIVO      MUNIC    Alta Floresta D'Oeste  Rondônia   \n",
       "2        3        ATIVO      MUNIC    Alta Floresta D'Oeste  Rondônia   \n",
       "3        4        ATIVO      MUNIC  Alto Alegre dos Parecis  Rondônia   \n",
       "4        5        ATIVO      MUNIC    Alta Floresta D'Oeste  Rondônia   \n",
       "\n",
       "   munResLat munResLon  munResAlt  munResArea  \n",
       "0  -11.93554 -61.99982      338.0    7067.025  \n",
       "1  -11.93554 -61.99982      338.0    7067.025  \n",
       "2  -11.93554 -61.99982      338.0    7067.025  \n",
       "3  -12.13178 -61.85308      397.0    3958.273  \n",
       "4  -11.93554 -61.99982      338.0    7067.025  \n",
       "\n",
       "[5 rows x 69 columns]"
      ]
     },
     "execution_count": 20,
     "metadata": {},
     "output_type": "execute_result"
    }
   ],
   "source": [
    "sinasc_raw = pd.read_csv('SINASC_RO_2019.csv')\n",
    "sinasc_raw.head()"
   ]
  },
  {
   "cell_type": "code",
   "execution_count": 21,
   "metadata": {
    "id": "Pz_6GorclTuC"
   },
   "outputs": [
    {
     "data": {
      "text/plain": [
       "Index(['ORIGEM', 'CODESTAB', 'CODMUNNASC', 'LOCNASC', 'IDADEMAE', 'ESTCIVMAE',\n",
       "       'ESCMAE', 'CODOCUPMAE', 'QTDFILVIVO', 'QTDFILMORT', 'CODMUNRES',\n",
       "       'GESTACAO', 'GRAVIDEZ', 'PARTO', 'CONSULTAS', 'DTNASC', 'HORANASC',\n",
       "       'SEXO', 'APGAR1', 'APGAR5', 'RACACOR', 'PESO', 'IDANOMAL', 'DTCADASTRO',\n",
       "       'CODANOMAL', 'NUMEROLOTE', 'VERSAOSIST', 'DTRECEBIM', 'DIFDATA',\n",
       "       'DTRECORIGA', 'NATURALMAE', 'CODMUNNATU', 'CODUFNATU', 'ESCMAE2010',\n",
       "       'SERIESCMAE', 'DTNASCMAE', 'RACACORMAE', 'QTDGESTANT', 'QTDPARTNOR',\n",
       "       'QTDPARTCES', 'IDADEPAI', 'DTULTMENST', 'SEMAGESTAC', 'TPMETESTIM',\n",
       "       'CONSPRENAT', 'MESPRENAT', 'TPAPRESENT', 'STTRABPART', 'STCESPARTO',\n",
       "       'TPNASCASSI', 'TPFUNCRESP', 'TPDOCRESP', 'DTDECLARAC', 'ESCMAEAGR1',\n",
       "       'STDNEPIDEM', 'STDNNOVA', 'CODPAISRES', 'TPROBSON', 'PARIDADE',\n",
       "       'KOTELCHUCK', 'CONTADOR', 'munResStatus', 'munResTipo', 'munResNome',\n",
       "       'munResUf', 'munResLat', 'munResLon', 'munResAlt', 'munResArea'],\n",
       "      dtype='object')"
      ]
     },
     "execution_count": 21,
     "metadata": {},
     "output_type": "execute_result"
    }
   ],
   "source": [
    "# verificando as colunas da base de dados\n",
    "sinasc_raw.columns"
   ]
  },
  {
   "cell_type": "code",
   "execution_count": null,
   "metadata": {
    "id": "C7UKJm4slTuD"
   },
   "outputs": [],
   "source": []
  },
  {
   "cell_type": "code",
   "execution_count": null,
   "metadata": {
    "id": "X6JmtT08lTuD"
   },
   "outputs": [],
   "source": []
  },
  {
   "cell_type": "markdown",
   "metadata": {
    "id": "9GOoel3-lTuD"
   },
   "source": [
    "# Tarefa 2"
   ]
  },
  {
   "cell_type": "markdown",
   "metadata": {
    "id": "iNNeWswTlTuD"
   },
   "source": [
    "### 1. Crie 2 faixas de Latitude do município (munResLat) sendo uma acima e outra abaixo de -10.5 e aplique o groupby usando essas faixas como chave e realize operações de soma, media, minimo, maximo, mediana, desvio padrao, variancia pra pelo menos 2 variáveis numéricas ainda não utilizadas"
   ]
  },
  {
   "cell_type": "code",
   "execution_count": 28,
   "metadata": {
    "id": "HXtelNbnlTuE"
   },
   "outputs": [
    {
     "data": {
      "text/plain": [
       "munResLat\n",
       "(-10.5, 50.0]     14034\n",
       "(-50.0, -10.5]    12993\n",
       "NaN                   1\n",
       "Name: count, dtype: int64"
      ]
     },
     "execution_count": 28,
     "metadata": {},
     "output_type": "execute_result"
    }
   ],
   "source": [
    "# Agrupando os dados e calculando as estatísticas\n",
    "lat = pd.cut(sinasc_raw['munResLat'], [-50, -10.5, 50])\n",
    "lat.value_counts(dropna=False)"
   ]
  },
  {
   "cell_type": "code",
   "execution_count": 30,
   "metadata": {},
   "outputs": [
    {
     "name": "stdout",
     "output_type": "stream",
     "text": [
      "Intervalo de latitude: -13.49976 a -8.76889\n",
      "munResLat\n",
      "Norte    14034\n",
      "Sul      12993\n",
      "Name: count, dtype: int64\n"
     ]
    }
   ],
   "source": [
    "# Verificando o intervalo de latitude\n",
    "min_lat = sinasc_raw['munResLat'].min()\n",
    "max_lat = sinasc_raw['munResLat'].max()\n",
    "print(f\"Intervalo de latitude: {min_lat} a {max_lat}\")\n",
    "\n",
    "# Criando as faixas de latitude com labels mais descritivos\n",
    "lat = pd.cut(sinasc_raw['munResLat'], bins=[-50, -10.5, max_lat], \n",
    "            labels=['Sul', 'Norte'])\n",
    "\n",
    "# Verificando a distribuição dos dados nas faixas\n",
    "print(lat.value_counts())"
   ]
  },
  {
   "cell_type": "code",
   "execution_count": 34,
   "metadata": {},
   "outputs": [
    {
     "name": "stdout",
     "output_type": "stream",
     "text": [
      "            IDADEMAE                           PESO                       \n",
      "                mean       std min max         mean         std  min   max\n",
      "munResLat                                                                 \n",
      "Sul        26.178943  6.320385  12  53  3240.098053  531.815114  258  5985\n",
      "Norte      26.014964  6.447663  11  52  3246.055864  556.487709  295  5190\n"
     ]
    },
    {
     "name": "stderr",
     "output_type": "stream",
     "text": [
      "C:\\Users\\morid\\AppData\\Local\\Temp\\ipykernel_38180\\1551398049.py:2: FutureWarning: The default of observed=False is deprecated and will be changed to True in a future version of pandas. Pass observed=False to retain current behavior or observed=True to adopt the future default and silence this warning.\n",
      "  grouped = sinasc_raw.groupby(lat)\n"
     ]
    }
   ],
   "source": [
    "# Agrupando os dados e calculando as estatísticas\n",
    "grouped = sinasc_raw.groupby(lat)\n",
    "stats = grouped[['IDADEMAE', 'PESO']].agg(['mean', 'std', 'min', 'max'])\n",
    "print(stats)"
   ]
  },
  {
   "cell_type": "markdown",
   "metadata": {
    "id": "AK33D0mdlTuE"
   },
   "source": [
    "### 2. Crie 2 faixas da área dos municípios (munResArea) sendo uma acima e outra abaixo de 3000 e aplique o groupby usando essas faixas como chave e realize operações de soma, media, minimo, maximo, mediana, desvio padrao, variancia pra pelo menos 2 variáveis numéricas ainda não utilizadas\n"
   ]
  },
  {
   "cell_type": "code",
   "execution_count": 36,
   "metadata": {
    "id": "qqCXJtYIlTuE"
   },
   "outputs": [
    {
     "name": "stdout",
     "output_type": "stream",
     "text": [
      "               IDADEMAE                                                 \\\n",
      "                    sum       mean min max median       std        var   \n",
      "faixa_area                                                               \n",
      "Abaixo de 3000   137389  26.324775  11  53   26.0  6.305535  39.759775   \n",
      "Acima de 3000    567848  26.038518  12  53   25.0  6.405497  41.030387   \n",
      "\n",
      "                    PESO                                              \\\n",
      "                     sum         mean  min   max  median         std   \n",
      "faixa_area                                                             \n",
      "Abaixo de 3000  16796616  3218.359073  258  5720  3245.0  531.583103   \n",
      "Acima de 3000   70857126  3249.134538  292  5985  3280.0  547.716582   \n",
      "\n",
      "                               \n",
      "                          var  \n",
      "faixa_area                     \n",
      "Abaixo de 3000  282580.595074  \n",
      "Acima de 3000   299993.453720  \n"
     ]
    },
    {
     "name": "stderr",
     "output_type": "stream",
     "text": [
      "C:\\Users\\morid\\AppData\\Local\\Temp\\ipykernel_38180\\3890058619.py:13: FutureWarning: The default of observed=False is deprecated and will be changed to True in a future version of pandas. Pass observed=False to retain current behavior or observed=True to adopt the future default and silence this warning.\n",
      "  grouped = sinasc_raw.groupby('faixa_area')\n"
     ]
    }
   ],
   "source": [
    "import pandas as pd\n",
    "\n",
    "# Assumindo que você já carregou seus dados em um DataFrame chamado sinasc_raw\n",
    "\n",
    "# Criando a coluna de faixas de área\n",
    "sinasc_raw['faixa_area'] = pd.cut(sinasc_raw['munResArea'], bins=[0, 3000, np.inf], labels=['Abaixo de 3000', 'Acima de 3000'])\n",
    "\n",
    "# Escolhendo duas variáveis numéricas não utilizadas (ajuste conforme necessário)\n",
    "variavel1 = 'IDADEMAE'\n",
    "variavel2 = 'PESO'\n",
    "\n",
    "# Agrupando os dados e calculando as estatísticas\n",
    "grouped = sinasc_raw.groupby('faixa_area')\n",
    "stats = grouped[[variavel1, variavel2]].agg(['sum', 'mean', 'min', 'max', 'median', 'std', 'var'])\n",
    "\n",
    "print(stats)"
   ]
  },
  {
   "cell_type": "markdown",
   "metadata": {
    "id": "aWaljnnxlTuE"
   },
   "source": [
    "### 3. Determine faixas na variável munResAlt e aplique o groupby usando essas faixas como chave e realize operações de soma, media, minimo, maximo, mediana, desvio padrao, variancia pra pelo menos 2 variáveis numéricas ainda não utilizadas"
   ]
  },
  {
   "cell_type": "code",
   "execution_count": 53,
   "metadata": {},
   "outputs": [
    {
     "name": "stderr",
     "output_type": "stream",
     "text": [
      "C:\\Users\\morid\\AppData\\Local\\Temp\\ipykernel_38180\\1704569156.py:2: FutureWarning: The default value of observed=False is deprecated and will change to observed=True in a future version of pandas. Specify observed=False to silence this warning and retain the current behavior\n",
      "  sinasc_pivot = sinasc_raw.pivot_table(values=['PESO', 'IDADEPAI'],\n",
      "C:\\Users\\morid\\AppData\\Local\\Temp\\ipykernel_38180\\1704569156.py:2: FutureWarning: The provided callable <function max at 0x000001F765AE9EE0> is currently using SeriesGroupBy.max. In a future version of pandas, the provided callable will be used directly. To keep current behavior pass the string \"max\" instead.\n",
      "  sinasc_pivot = sinasc_raw.pivot_table(values=['PESO', 'IDADEPAI'],\n",
      "C:\\Users\\morid\\AppData\\Local\\Temp\\ipykernel_38180\\1704569156.py:2: FutureWarning: The provided callable <function min at 0x000001F765AEA020> is currently using SeriesGroupBy.min. In a future version of pandas, the provided callable will be used directly. To keep current behavior pass the string \"min\" instead.\n",
      "  sinasc_pivot = sinasc_raw.pivot_table(values=['PESO', 'IDADEPAI'],\n"
     ]
    },
    {
     "data": {
      "text/html": [
       "<div>\n",
       "<style scoped>\n",
       "    .dataframe tbody tr th:only-of-type {\n",
       "        vertical-align: middle;\n",
       "    }\n",
       "\n",
       "    .dataframe tbody tr th {\n",
       "        vertical-align: top;\n",
       "    }\n",
       "\n",
       "    .dataframe thead th {\n",
       "        text-align: right;\n",
       "    }\n",
       "</style>\n",
       "<table border=\"1\" class=\"dataframe\">\n",
       "  <thead>\n",
       "    <tr style=\"text-align: right;\">\n",
       "      <th></th>\n",
       "      <th></th>\n",
       "      <th>PESO_mean</th>\n",
       "      <th>PESO_median</th>\n",
       "      <th>IDADEPAI_maximo</th>\n",
       "      <th>IDADEPAI_minimo</th>\n",
       "    </tr>\n",
       "    <tr>\n",
       "      <th>ESCMAE</th>\n",
       "      <th>IDADEMAE</th>\n",
       "      <th></th>\n",
       "      <th></th>\n",
       "      <th></th>\n",
       "      <th></th>\n",
       "    </tr>\n",
       "  </thead>\n",
       "  <tbody>\n",
       "    <tr>\n",
       "      <th rowspan=\"5\" valign=\"top\">1 a 3 anos</th>\n",
       "      <th>(10.958, 19.4]</th>\n",
       "      <td>27.0</td>\n",
       "      <td>17.0</td>\n",
       "      <td>3049.430769</td>\n",
       "      <td>3190.0</td>\n",
       "    </tr>\n",
       "    <tr>\n",
       "      <th>(19.4, 27.8]</th>\n",
       "      <td>55.0</td>\n",
       "      <td>21.0</td>\n",
       "      <td>3197.305389</td>\n",
       "      <td>3215.0</td>\n",
       "    </tr>\n",
       "    <tr>\n",
       "      <th>(27.8, 36.2]</th>\n",
       "      <td>60.0</td>\n",
       "      <td>22.0</td>\n",
       "      <td>3139.349515</td>\n",
       "      <td>3235.0</td>\n",
       "    </tr>\n",
       "    <tr>\n",
       "      <th>(36.2, 44.6]</th>\n",
       "      <td>55.0</td>\n",
       "      <td>27.0</td>\n",
       "      <td>3239.105263</td>\n",
       "      <td>3310.0</td>\n",
       "    </tr>\n",
       "    <tr>\n",
       "      <th>(44.6, 53.0]</th>\n",
       "      <td>NaN</td>\n",
       "      <td>NaN</td>\n",
       "      <td>3342.500000</td>\n",
       "      <td>3342.5</td>\n",
       "    </tr>\n",
       "    <tr>\n",
       "      <th rowspan=\"5\" valign=\"top\">12 anos ou mais</th>\n",
       "      <th>(10.958, 19.4]</th>\n",
       "      <td>38.0</td>\n",
       "      <td>19.0</td>\n",
       "      <td>3213.318182</td>\n",
       "      <td>3272.5</td>\n",
       "    </tr>\n",
       "    <tr>\n",
       "      <th>(19.4, 27.8]</th>\n",
       "      <td>58.0</td>\n",
       "      <td>17.0</td>\n",
       "      <td>3234.908867</td>\n",
       "      <td>3275.0</td>\n",
       "    </tr>\n",
       "    <tr>\n",
       "      <th>(27.8, 36.2]</th>\n",
       "      <td>65.0</td>\n",
       "      <td>20.0</td>\n",
       "      <td>3253.958790</td>\n",
       "      <td>3280.0</td>\n",
       "    </tr>\n",
       "    <tr>\n",
       "      <th>(36.2, 44.6]</th>\n",
       "      <td>61.0</td>\n",
       "      <td>21.0</td>\n",
       "      <td>3261.732463</td>\n",
       "      <td>3280.0</td>\n",
       "    </tr>\n",
       "    <tr>\n",
       "      <th>(44.6, 53.0]</th>\n",
       "      <td>38.0</td>\n",
       "      <td>36.0</td>\n",
       "      <td>3517.000000</td>\n",
       "      <td>3690.0</td>\n",
       "    </tr>\n",
       "    <tr>\n",
       "      <th rowspan=\"5\" valign=\"top\">4 a 7 anos</th>\n",
       "      <th>(10.958, 19.4]</th>\n",
       "      <td>43.0</td>\n",
       "      <td>16.0</td>\n",
       "      <td>3154.828508</td>\n",
       "      <td>3220.0</td>\n",
       "    </tr>\n",
       "    <tr>\n",
       "      <th>(19.4, 27.8]</th>\n",
       "      <td>62.0</td>\n",
       "      <td>18.0</td>\n",
       "      <td>3251.614600</td>\n",
       "      <td>3280.0</td>\n",
       "    </tr>\n",
       "    <tr>\n",
       "      <th>(27.8, 36.2]</th>\n",
       "      <td>86.0</td>\n",
       "      <td>20.0</td>\n",
       "      <td>3257.890551</td>\n",
       "      <td>3300.0</td>\n",
       "    </tr>\n",
       "    <tr>\n",
       "      <th>(36.2, 44.6]</th>\n",
       "      <td>63.0</td>\n",
       "      <td>20.0</td>\n",
       "      <td>3262.234657</td>\n",
       "      <td>3310.0</td>\n",
       "    </tr>\n",
       "    <tr>\n",
       "      <th>(44.6, 53.0]</th>\n",
       "      <td>NaN</td>\n",
       "      <td>NaN</td>\n",
       "      <td>3236.666667</td>\n",
       "      <td>3230.0</td>\n",
       "    </tr>\n",
       "    <tr>\n",
       "      <th rowspan=\"5\" valign=\"top\">8 a 11 anos</th>\n",
       "      <th>(10.958, 19.4]</th>\n",
       "      <td>50.0</td>\n",
       "      <td>15.0</td>\n",
       "      <td>3168.224115</td>\n",
       "      <td>3190.0</td>\n",
       "    </tr>\n",
       "    <tr>\n",
       "      <th>(19.4, 27.8]</th>\n",
       "      <td>64.0</td>\n",
       "      <td>17.0</td>\n",
       "      <td>3260.923825</td>\n",
       "      <td>3280.0</td>\n",
       "    </tr>\n",
       "    <tr>\n",
       "      <th>(27.8, 36.2]</th>\n",
       "      <td>68.0</td>\n",
       "      <td>18.0</td>\n",
       "      <td>3293.440833</td>\n",
       "      <td>3320.0</td>\n",
       "    </tr>\n",
       "    <tr>\n",
       "      <th>(36.2, 44.6]</th>\n",
       "      <td>70.0</td>\n",
       "      <td>18.0</td>\n",
       "      <td>3230.457995</td>\n",
       "      <td>3290.0</td>\n",
       "    </tr>\n",
       "    <tr>\n",
       "      <th>(44.6, 53.0]</th>\n",
       "      <td>39.0</td>\n",
       "      <td>32.0</td>\n",
       "      <td>3201.090909</td>\n",
       "      <td>3320.0</td>\n",
       "    </tr>\n",
       "    <tr>\n",
       "      <th rowspan=\"5\" valign=\"top\">Nenhuma</th>\n",
       "      <th>(10.958, 19.4]</th>\n",
       "      <td>NaN</td>\n",
       "      <td>NaN</td>\n",
       "      <td>2980.000000</td>\n",
       "      <td>2620.0</td>\n",
       "    </tr>\n",
       "    <tr>\n",
       "      <th>(19.4, 27.8]</th>\n",
       "      <td>52.0</td>\n",
       "      <td>29.0</td>\n",
       "      <td>2764.666667</td>\n",
       "      <td>3120.0</td>\n",
       "    </tr>\n",
       "    <tr>\n",
       "      <th>(27.8, 36.2]</th>\n",
       "      <td>39.0</td>\n",
       "      <td>30.0</td>\n",
       "      <td>3081.562500</td>\n",
       "      <td>3097.5</td>\n",
       "    </tr>\n",
       "    <tr>\n",
       "      <th>(36.2, 44.6]</th>\n",
       "      <td>43.0</td>\n",
       "      <td>43.0</td>\n",
       "      <td>3343.181818</td>\n",
       "      <td>3315.0</td>\n",
       "    </tr>\n",
       "    <tr>\n",
       "      <th>(44.6, 53.0]</th>\n",
       "      <td>NaN</td>\n",
       "      <td>NaN</td>\n",
       "      <td>3520.000000</td>\n",
       "      <td>3520.0</td>\n",
       "    </tr>\n",
       "  </tbody>\n",
       "</table>\n",
       "</div>"
      ],
      "text/plain": [
       "                                PESO_mean  PESO_median  IDADEPAI_maximo  \\\n",
       "ESCMAE          IDADEMAE                                                  \n",
       "1 a 3 anos      (10.958, 19.4]       27.0         17.0      3049.430769   \n",
       "                (19.4, 27.8]         55.0         21.0      3197.305389   \n",
       "                (27.8, 36.2]         60.0         22.0      3139.349515   \n",
       "                (36.2, 44.6]         55.0         27.0      3239.105263   \n",
       "                (44.6, 53.0]          NaN          NaN      3342.500000   \n",
       "12 anos ou mais (10.958, 19.4]       38.0         19.0      3213.318182   \n",
       "                (19.4, 27.8]         58.0         17.0      3234.908867   \n",
       "                (27.8, 36.2]         65.0         20.0      3253.958790   \n",
       "                (36.2, 44.6]         61.0         21.0      3261.732463   \n",
       "                (44.6, 53.0]         38.0         36.0      3517.000000   \n",
       "4 a 7 anos      (10.958, 19.4]       43.0         16.0      3154.828508   \n",
       "                (19.4, 27.8]         62.0         18.0      3251.614600   \n",
       "                (27.8, 36.2]         86.0         20.0      3257.890551   \n",
       "                (36.2, 44.6]         63.0         20.0      3262.234657   \n",
       "                (44.6, 53.0]          NaN          NaN      3236.666667   \n",
       "8 a 11 anos     (10.958, 19.4]       50.0         15.0      3168.224115   \n",
       "                (19.4, 27.8]         64.0         17.0      3260.923825   \n",
       "                (27.8, 36.2]         68.0         18.0      3293.440833   \n",
       "                (36.2, 44.6]         70.0         18.0      3230.457995   \n",
       "                (44.6, 53.0]         39.0         32.0      3201.090909   \n",
       "Nenhuma         (10.958, 19.4]        NaN          NaN      2980.000000   \n",
       "                (19.4, 27.8]         52.0         29.0      2764.666667   \n",
       "                (27.8, 36.2]         39.0         30.0      3081.562500   \n",
       "                (36.2, 44.6]         43.0         43.0      3343.181818   \n",
       "                (44.6, 53.0]          NaN          NaN      3520.000000   \n",
       "\n",
       "                                IDADEPAI_minimo  \n",
       "ESCMAE          IDADEMAE                         \n",
       "1 a 3 anos      (10.958, 19.4]           3190.0  \n",
       "                (19.4, 27.8]             3215.0  \n",
       "                (27.8, 36.2]             3235.0  \n",
       "                (36.2, 44.6]             3310.0  \n",
       "                (44.6, 53.0]             3342.5  \n",
       "12 anos ou mais (10.958, 19.4]           3272.5  \n",
       "                (19.4, 27.8]             3275.0  \n",
       "                (27.8, 36.2]             3280.0  \n",
       "                (36.2, 44.6]             3280.0  \n",
       "                (44.6, 53.0]             3690.0  \n",
       "4 a 7 anos      (10.958, 19.4]           3220.0  \n",
       "                (19.4, 27.8]             3280.0  \n",
       "                (27.8, 36.2]             3300.0  \n",
       "                (36.2, 44.6]             3310.0  \n",
       "                (44.6, 53.0]             3230.0  \n",
       "8 a 11 anos     (10.958, 19.4]           3190.0  \n",
       "                (19.4, 27.8]             3280.0  \n",
       "                (27.8, 36.2]             3320.0  \n",
       "                (36.2, 44.6]             3290.0  \n",
       "                (44.6, 53.0]             3320.0  \n",
       "Nenhuma         (10.958, 19.4]           2620.0  \n",
       "                (19.4, 27.8]             3120.0  \n",
       "                (27.8, 36.2]             3097.5  \n",
       "                (36.2, 44.6]             3315.0  \n",
       "                (44.6, 53.0]             3520.0  "
      ]
     },
     "execution_count": 53,
     "metadata": {},
     "output_type": "execute_result"
    }
   ],
   "source": [
    "idade_mae = pd.cut(sinasc_raw['IDADEMAE'], 5)  # Corrigir para a coluna correta\n",
    "sinasc_pivot = sinasc_raw.pivot_table(values=['PESO', 'IDADEPAI'],\n",
    "                                      index=['ESCMAE', idade_mae],\n",
    "                                      aggfunc={\n",
    "                                          'PESO': ['mean', 'median'],\n",
    "                                          'IDADEPAI': [np.max, np.min]  # Remover os rótulos personalizados\n",
    "                                      },\n",
    "                                      dropna=True)\n",
    "\n",
    "# Renomear as colunas, se necessário\n",
    "sinasc_pivot.columns = ['PESO_mean', 'PESO_median', 'IDADEPAI_maximo', 'IDADEPAI_minimo']\n",
    "\n",
    "sinasc_pivot\n"
   ]
  },
  {
   "cell_type": "markdown",
   "metadata": {
    "id": "aF1riawJlTuF"
   },
   "source": [
    "### 4. Plote no mesmo grafico ao longo do tempo a idade media das mulheres de cada regiao imediatas de rondonia\n"
   ]
  },
  {
   "cell_type": "code",
   "execution_count": 72,
   "metadata": {
    "id": "6aZM5xKale9c"
   },
   "outputs": [],
   "source": [
    "imediatas = {\n",
    "    \"Candeias do Jamari\": \"Porto Velho\",\n",
    "    \"Guajará-Mirim\": \"Porto Velho\",\n",
    "    \"Itapuã do Oeste\": \"Porto Velho\",\n",
    "    \"Nova Mamoré\": \"Porto Velho\",\n",
    "    \"Porto Velho\": \"Porto Velho\",\n",
    "    \"Ariquemes\": \"Ariquemes\",\n",
    "    \"Alto Paraíso\": \"Ariquemes\",\n",
    "    \"Buritis\": \"Ariquemes\",\n",
    "    \"Cacaulândia\": \"Ariquemes\",\n",
    "    \"Campo Novo de Rondônia\": \"Ariquemes\",\n",
    "    \"Cujubim\": \"Ariquemes\",\n",
    "    \"Monte Negro\": \"Ariquemes\",\n",
    "    \"Rio Crespo\": \"Ariquemes\",\n",
    "    \"Jaru\": \"Jaru\",\n",
    "    \"Governador Jorge Teixeira\": \"Jaru\",\n",
    "    \"Machadinho D'Oeste\": \"Jaru\",\n",
    "    \"Theobroma\": \"Jaru\",\n",
    "    \"Vale do Anari\": \"Jaru\",\n",
    "    \"Alvorada D'Oeste\": \"Ji-Paraná\",\n",
    "    \"Costa Marques\": \"Ji-Paraná\",\n",
    "    \"Ji-Paraná\": \"Ji-Paraná\",\n",
    "    \"Mirante da Serra\": \"Ji-Paraná\",\n",
    "    \"Nova União\": \"Ji-Paraná\",\n",
    "    \"Ouro Preto do Oeste\": \"Ji-Paraná\",\n",
    "    \"Presidente Médici\": \"Ji-Paraná\",\n",
    "    \"São Francisco do Guaporé\": \"Ji-Paraná\",\n",
    "    \"São Miguel do Guaporé\": \"Ji-Paraná\",\n",
    "    \"Seringueiras\": \"Ji-Paraná\",\n",
    "    \"Teixeirópolis\": \"Ji-Paraná\",\n",
    "    \"Urupá\": \"Ji-Paraná\",\n",
    "    \"Vale do Paraíso\": \"Ji-Paraná\",\n",
    "    \"Cacoal\": \"Cacoal\",\n",
    "    \"Alta Floresta D'Oeste\": \"Cacoal\",\n",
    "    \"Alto Alegre dos Parecis\": \"Cacoal\",\n",
    "    \"Castanheiras\": \"Cacoal\",\n",
    "    \"Espigão D'Oeste\": \"Cacoal\",\n",
    "    \"Ministro Andreazza\": \"Cacoal\",\n",
    "    \"Nova Brasilândia D'Oeste\": \"Cacoal\",\n",
    "    \"Novo Horizonte do Oeste\": \"Cacoal\",\n",
    "    \"Parecis\": \"Cacoal\",\n",
    "    \"Pimenta Bueno\": \"Cacoal\",\n",
    "    \"Primavera de Rondônia\": \"Cacoal\",\n",
    "    \"Rolim de Moura\": \"Cacoal\",\n",
    "    \"Santa Luzia D'Oeste\": \"Cacoal\",\n",
    "    \"São Felipe D'Oeste\": \"Cacoal\",\n",
    "    \"Vilhena\": \"Vilhena\",\n",
    "    \"Cabixi\": \"Vilhena\",\n",
    "    \"Cerejeiras\": \"Vilhena\",\n",
    "    \"Chupinguaia\": \"Vilhena\",\n",
    "    \"Colorado do Oeste\": \"Vilhena\",\n",
    "    \"Corumbiara\": \"Vilhena\",\n",
    "    \"Pimenteiras do Oeste\": \"Vilhena\"\n",
    "}"
   ]
  },
  {
   "cell_type": "code",
   "execution_count": 74,
   "metadata": {},
   "outputs": [
    {
     "data": {
      "text/plain": [
       "<Axes: xlabel='imediatas', ylabel='idade_mãe'>"
      ]
     },
     "execution_count": 74,
     "metadata": {},
     "output_type": "execute_result"
    },
    {
     "data": {
      "image/png": "[encoded data removed]",
      "text/plain": [
       "<Figure size 1800x600 with 1 Axes>"
      ]
     },
     "metadata": {},
     "output_type": "display_data"
    }
   ],
   "source": [
    "imediatas_idade_mae = sinasc_raw.set_index('munResNome').groupby(imediatas)['IDADEMAE'].mean().to_frame().plot(figsize=[18 ,6])\n",
    "plt.ylabel('idade_mãe')\n",
    "plt.xlabel('imediatas')\n",
    "imediatas_idade_mae"
   ]
  },
  {
   "cell_type": "markdown",
   "metadata": {
    "id": "yt-LIWxblTuF"
   },
   "source": [
    "### 5. Utilize a tabela do link abaixo e crie faixas utilizando o mapping e gere agrupamentos utilizando essas faixas como chave\n"
   ]
  },
  {
   "cell_type": "markdown",
   "metadata": {
    "id": "moZakjgIlTuF"
   },
   "source": [
    "### 5.1 IDH\n",
    "A - https://pt.wikipedia.org/wiki/Lista_de_munic%C3%ADpios_de_Rond%C3%B4nia_por_IDH-M\n"
   ]
  },
  {
   "cell_type": "code",
   "execution_count": 82,
   "metadata": {},
   "outputs": [],
   "source": [
    "IDH = {\n",
    "    \"Alta Floresta D'Oeste\" : 'IDH-médio', \n",
    "    'Alto Alegre dos Parecis': 'IDH-baixo',\n",
    "    'Novo Horizonte do Oeste': 'IDH-médio', \n",
    "    'Rolim de Moura': 'IDH-alto', \n",
    "    \"São Felipe D'Oeste\": 'IDH-médio',\n",
    "    'Ariquemes': 'IDH-alto', \n",
    "    'Cujubim': 'IDH-médio', \n",
    "    'Alto Paraíso': 'IDH-médio', \n",
    "    'Monte Negro': 'IDH-médio', \n",
    "    'Jaru': 'IDH-médio',\n",
    "    'Rio Crespo': 'IDH-médio', \n",
    "    'Porto Velho': 'IDH-alto', \n",
    "    'Cacaulândia': 'IDH-médio', \n",
    "    'Itapuã do Oeste': 'IDH-médio',\n",
    "    'Ji-Paraná': 'IDH-alto', \n",
    "    'Buritis': 'IDH-médio', \n",
    "    'Vilhena':'IDH-alto', \n",
    "    'Vale do Anari':'IDH-baixo',\n",
    "    'Candeias do Jamari':'IDH-médio', \n",
    "    'Costa Marques':'IDH-médio', \n",
    "    'Campo Novo de Rondônia':'IDH-baixo',\n",
    "    \"Machadinho D'Oeste\": 'IDH-baixo', \n",
    "    'Colorado do Oeste': 'IDH-médio', \n",
    "    'Nova Mamoré': 'IDH-baixo', \n",
    "    'Urupá': 'IDH-médio',\n",
    "    'Ouro Preto do Oeste': 'IDH-médio', \n",
    "    'Corumbiara':'IDH-médio', \n",
    "    'São Miguel do Guaporé':'IDH-médio',\n",
    "    'Governador Jorge Teixeira': 'IDH-baixo', \n",
    "    \"Santa Luzia D'Oeste\":'IDH-médio',\n",
    "    'Pimenta Bueno': 'IDH-alto', \n",
    "    'Mirante da Serra':'IDH-médio', \n",
    "    'Cerejeiras':'IDH-médio',\n",
    "    'Presidente Médici':'IDH-médio',\n",
    "    'Cacoal': 'IDH-alto',\n",
    "    'Parecis':'IDH-médio', \n",
    "    \"Espigão D'Oeste\":'IDH-médio',\n",
    "    'São Francisco do Guaporé':'IDH-médio', \n",
    "    'Ministro Andreazza':'IDH-médio',\n",
    "    \"Nova Brasilândia D'Oeste\":'IDH-médio', \n",
    "    \"Alvorada D'Oeste\":'IDH-médio',\n",
    "    'Primavera de Rondônia':'IDH-médio', \n",
    "    'Seringueiras':'IDH-baixo',\n",
    "    'Castanheiras':'IDH-médio', \n",
    "    'Chupinguaia':'IDH-médio', \n",
    "    'Guajará-Mirim':'IDH-médio',\n",
    "    'Theobroma':'IDH-baixo',\n",
    "    'Nova União':'IDH-baixo', \n",
    "    'Teixeirópolis':'IDH-médio', \n",
    "    'Vale do Paraíso':'IDH-médio',\n",
    "    'Pimenteiras do Oeste':'IDH-médio',\n",
    "    'Cabixi':'IDH-médio'   \n",
    "}"
   ]
  },
  {
   "cell_type": "code",
   "execution_count": 86,
   "metadata": {
    "id": "DaJk66_BlTuF"
   },
   "outputs": [
    {
     "data": {
      "text/html": [
       "<div>\n",
       "<style scoped>\n",
       "    .dataframe tbody tr th:only-of-type {\n",
       "        vertical-align: middle;\n",
       "    }\n",
       "\n",
       "    .dataframe tbody tr th {\n",
       "        vertical-align: top;\n",
       "    }\n",
       "\n",
       "    .dataframe thead tr th {\n",
       "        text-align: left;\n",
       "    }\n",
       "\n",
       "    .dataframe thead tr:last-of-type th {\n",
       "        text-align: right;\n",
       "    }\n",
       "</style>\n",
       "<table border=\"1\" class=\"dataframe\">\n",
       "  <thead>\n",
       "    <tr>\n",
       "      <th></th>\n",
       "      <th colspan=\"3\" halign=\"left\">IDADEMAE</th>\n",
       "    </tr>\n",
       "    <tr>\n",
       "      <th></th>\n",
       "      <th>mean</th>\n",
       "      <th>median</th>\n",
       "      <th>std</th>\n",
       "    </tr>\n",
       "    <tr>\n",
       "      <th>munResNome</th>\n",
       "      <th></th>\n",
       "      <th></th>\n",
       "      <th></th>\n",
       "    </tr>\n",
       "  </thead>\n",
       "  <tbody>\n",
       "    <tr>\n",
       "      <th>IDH-alto</th>\n",
       "      <td>26.280332</td>\n",
       "      <td>26.0</td>\n",
       "      <td>6.415374</td>\n",
       "    </tr>\n",
       "    <tr>\n",
       "      <th>IDH-baixo</th>\n",
       "      <td>25.326944</td>\n",
       "      <td>25.0</td>\n",
       "      <td>6.194908</td>\n",
       "    </tr>\n",
       "    <tr>\n",
       "      <th>IDH-médio</th>\n",
       "      <td>25.884855</td>\n",
       "      <td>25.0</td>\n",
       "      <td>6.353274</td>\n",
       "    </tr>\n",
       "  </tbody>\n",
       "</table>\n",
       "</div>"
      ],
      "text/plain": [
       "             IDADEMAE                 \n",
       "                 mean median       std\n",
       "munResNome                            \n",
       "IDH-alto    26.280332   26.0  6.415374\n",
       "IDH-baixo   25.326944   25.0  6.194908\n",
       "IDH-médio   25.884855   25.0  6.353274"
      ]
     },
     "execution_count": 86,
     "metadata": {},
     "output_type": "execute_result"
    }
   ],
   "source": [
    "idh = sinasc_raw.set_index('munResNome')\n",
    "idh.groupby(IDH)[['IDADEMAE']].agg(['mean','median', 'std'])"
   ]
  },
  {
   "cell_type": "markdown",
   "metadata": {
    "id": "zhtI6CxtlTuH"
   },
   "source": [
    "### 5.2 IFDM\n",
    "B - https://pt.wikipedia.org/wiki/Lista_de_munic%C3%ADpios_de_Rond%C3%B4nia_por_IFDM\n"
   ]
  },
  {
   "cell_type": "code",
   "execution_count": 90,
   "metadata": {
    "id": "1AVkd1M3lTuI"
   },
   "outputs": [],
   "source": [
    "IFDM = {\n",
    "    \"Espigão d'Oeste\":'des_regular',\n",
    "    'Seringueiras':'des_regular',\n",
    "    \"Alvorada d'Oeste\":'des_regular',\n",
    "    'Itapuã do Oeste':'des_regular',\n",
    "    'Cabixi':'des_regular',\n",
    "    'Novo Horizonte do Oeste':'des_regular',\n",
    "    \"Nova Brasilândia d'Oeste\":'des_regular',\n",
    "    'Vale do Paraíso':'des_regular',\n",
    "    'Corumbiara':'des_regular',\n",
    "    'Alto Paraíso':'des_regular',\n",
    "    'Cacaulândia':'des_regular',\n",
    "    'Vale do Anari':'des_regular',\n",
    "    'Ministro Andreazza':'des_regular',\n",
    "    'Costa Marques':'des_regular',\n",
    "    'Nova União':'des_regular',\n",
    "    'Guajará-Mirim':'des_regular',\n",
    "    'Mirante da Serra':'des_regular',\n",
    "    'Parecis':'des_regular',\n",
    "    'Castanheiras':'des_regular',\n",
    "    'Theobroma':'des_regular',\n",
    "    \"Machadinho d'Oeste\":'des_regular',\n",
    "    'Campo Novo de Rondônia':'des_regular',\n",
    "    'Nova Mamoré':'des_regular',\n",
    "    'Cujubim':'des_regular',\n",
    "    'Alto Alegre dos Parecis':'des_regular',\n",
    "    'Governador Jorge Teixeira': 'des_regular',\n",
    "    \"Ariquemes\": 'des_moderado',\n",
    "    \"Vilhena\": 'des_moderado',\n",
    "    \"Pimenta Bueno\": 'des_moderado',\n",
    "    \"Porto Velho\": 'des_moderado',\n",
    "    \"Ji-Paraná\": 'des_moderado',\n",
    "    \"Cacoal\": 'des_moderado',\n",
    "    \"Santa Luzia d'Oeste\": 'des_moderado',\n",
    "    \"Rolim de Moura\": 'des_moderado',\n",
    "    \"Chupinguaia\": 'des_moderado',\n",
    "    \"São Miguel do Guaporé\": 'des_moderado',\n",
    "    \"Pimenteiras do Oeste\": 'des_moderado',\n",
    "    \"Teixeirópolis\": 'des_moderado',\n",
    "    \"Colorado do Oeste\": 'des_moderado',\n",
    "    \"Jaru\": 'des_moderado',\n",
    "    \"Rio Crespo\": 'des_moderado',\n",
    "    \"Primavera de Rondônia\": 'des_moderado',\n",
    "    \"Alta Floresta d'Oeste\": 'des_moderado',\n",
    "    \"Ouro Preto do Oeste\": 'des_moderado',\n",
    "    \"São Francisco do Guaporé\": 'des_moderado',\n",
    "    \"Candeias do Jamari\": 'des_moderado',\n",
    "    \"Buritis\": 'des_moderado',\n",
    "    \"São Felipe d'Oeste\": 'des_moderado',\n",
    "    \"Presidente Médici\": 'des_moderado',\n",
    "    \"Cerejeiras\": 'des_moderado',\n",
    "    \"Monte Negro\": 'des_moderado',\n",
    "    \"Urupá\": 'des_moderado',\n",
    "    \n",
    "}"
   ]
  },
  {
   "cell_type": "code",
   "execution_count": 92,
   "metadata": {},
   "outputs": [
    {
     "data": {
      "text/html": [
       "<div>\n",
       "<style scoped>\n",
       "    .dataframe tbody tr th:only-of-type {\n",
       "        vertical-align: middle;\n",
       "    }\n",
       "\n",
       "    .dataframe tbody tr th {\n",
       "        vertical-align: top;\n",
       "    }\n",
       "\n",
       "    .dataframe thead th {\n",
       "        text-align: right;\n",
       "    }\n",
       "</style>\n",
       "<table border=\"1\" class=\"dataframe\">\n",
       "  <thead>\n",
       "    <tr style=\"text-align: right;\">\n",
       "      <th></th>\n",
       "      <th>sum</th>\n",
       "      <th>mean</th>\n",
       "      <th>min</th>\n",
       "      <th>max</th>\n",
       "      <th>median</th>\n",
       "      <th>std</th>\n",
       "      <th>var</th>\n",
       "    </tr>\n",
       "    <tr>\n",
       "      <th>munResNome</th>\n",
       "      <th></th>\n",
       "      <th></th>\n",
       "      <th></th>\n",
       "      <th></th>\n",
       "      <th></th>\n",
       "      <th></th>\n",
       "      <th></th>\n",
       "    </tr>\n",
       "  </thead>\n",
       "  <tbody>\n",
       "    <tr>\n",
       "      <th>des_moderado</th>\n",
       "      <td>561938</td>\n",
       "      <td>26.226921</td>\n",
       "      <td>12</td>\n",
       "      <td>53</td>\n",
       "      <td>26.0</td>\n",
       "      <td>6.388564</td>\n",
       "      <td>40.813756</td>\n",
       "    </tr>\n",
       "    <tr>\n",
       "      <th>des_regular</th>\n",
       "      <td>93135</td>\n",
       "      <td>25.412005</td>\n",
       "      <td>11</td>\n",
       "      <td>52</td>\n",
       "      <td>25.0</td>\n",
       "      <td>6.376854</td>\n",
       "      <td>40.664266</td>\n",
       "    </tr>\n",
       "  </tbody>\n",
       "</table>\n",
       "</div>"
      ],
      "text/plain": [
       "                 sum       mean  min  max  median       std        var\n",
       "munResNome                                                            \n",
       "des_moderado  561938  26.226921   12   53    26.0  6.388564  40.813756\n",
       "des_regular    93135  25.412005   11   52    25.0  6.376854  40.664266"
      ]
     },
     "execution_count": 92,
     "metadata": {},
     "output_type": "execute_result"
    }
   ],
   "source": [
    "sinasc_raw.set_index('munResNome')['IDADEMAE'].groupby(IFDM).agg(['sum', 'mean', 'min', 'max', 'median', 'std', 'var'])"
   ]
  },
  {
   "cell_type": "markdown",
   "metadata": {
    "id": "BwdS46EWlTuI"
   },
   "source": [
    "### 5.3 PIB\n",
    "C - https://pt.wikipedia.org/wiki/Lista_de_munic%C3%ADpios_de_Rond%C3%B4nia_por_PIB\n"
   ]
  },
  {
   "cell_type": "code",
   "execution_count": 94,
   "metadata": {},
   "outputs": [],
   "source": [
    "PIB = {\n",
    "    \"Porto Velho\": \"Acima de 1 bilhão\",\n",
    "    \"Ji-Paraná\": \"Acima de 1 bilhão\",\n",
    "    \"Vilhena\": \"Acima de 1 bilhão\",\n",
    "    \"Ariquemes\": \"Acima de 1 bilhão\",\n",
    "    \"Cacoal\": \"Acima de 1 bilhão\",\n",
    "    \"Jaru\": \"Acima de 1 bilhão\",\n",
    "    \"Rolim de Moura\": \"Acima de 1 bilhão\",\n",
    "    \"Pimenta Bueno\": \"Acima de 1 bilhão\",\n",
    "    \"Guajará-Mirim\": \"Acima de 500 Milhões\",\n",
    "    \"Ouro Preto do Oeste\": \"Acima de 500 Milhões\",\n",
    "    \"Buritis\": \"Acima de 500 Milhões\",\n",
    "    \"Machadinho do Oeste\": \"Acima de 500 Milhões\",\n",
    "    \"Espigão d'Oeste\": \"Acima de 500 Milhões\",\n",
    "    \"São Miguel do Guaporé\": \"Acima de 500 Milhões\",\n",
    "    \"Candeias do Jamari\": \"Acima de 500 Milhões\",\n",
    "    \"Nova Mamoré\": \"Acima de 500 Milhões\",\n",
    "    \"Cerejeiras\": \"Acima de 500 Milhões\",\n",
    "    \"Alta Floresta do Oeste\": \"Acima de 300 Milhões\",\n",
    "    \"Presidente Médici\": \"Acima de 300 Milhões\",\n",
    "    \"Cujubim\": \"Acima de 300 Milhões\",\n",
    "    \"Nova Brasilândia do Oeste\": \"Acima de 300 Milhões\",\n",
    "    \"Alto Paraíso\": \"Acima de 300 Milhões\",\n",
    "    \"São Francisco do Guaporé\": \"Acima de 300 Milhões\",\n",
    "    \"Colorado do Oeste\": \"Acima de 300 Milhões\",\n",
    "    \"Monte Negro\": \"Acima de 200 Milhões\",\n",
    "    \"Alto Alegre dos Parecis\": \"Acima de 200 Milhões\",\n",
    "    \"Campo Novo de Rondônia\": \"Acima de 200 Milhões\",\n",
    "    \"Alvorada do Oeste\": \"Acima de 200 Milhões\",\n",
    "    \"Chupinguaia\": \"Acima de 100 Milhões\",\n",
    "    \"Corumbiara\": \"Acima de 100 Milhões\",\n",
    "    \"Ministro Andreazza\": \"Acima de 100 Milhões\",\n",
    "    \"Urupá\": \"Acima de 100 Milhões\",\n",
    "    \"Costa Marques\": \"Acima de 100 Milhões\",\n",
    "    \"Seringueiras\": \"Acima de 100 Milhões\",\n",
    "    \"Mirante da Serra\": \"Acima de 100 Milhões\",\n",
    "    \"Governador Jorge Teixeira\": \"Acima de 100 Milhões\",\n",
    "    \"Theobroma\": \"Acima de 100 Milhões\",\n",
    "    \"Santa Luzia do Oeste\": \"Acima de 100 Milhões\",\n",
    "    \"Novo Horizonte do Oeste\": \"Acima de 100 Milhões\",\n",
    "    \"Itapuã do Oeste\": \"Acima de 100 Milhões\",\n",
    "    \"Vale do Paraíso\": \"Acima de 100 Milhões\",\n",
    "    \"Cacaulândia\": \"Acima de 100 Milhões\",\n",
    "    \"Cabixi\": \"Acima de 100 Milhões\",\n",
    "    \"Vale do Anari\": \"Acima de 100 Milhões\",\n",
    "    \"Nova União\": \"Até 100 Milhões\",\n",
    "    \"Parecis\": \"Até 100 Milhões\",\n",
    "    \"Rio Crespo\": \"Até 100 Milhões\",\n",
    "    \"Pimenteiras do Oeste\": \"Até 100 Milhões\",\n",
    "    \"Teixeirópolis\": \"Até 100 Milhões\",\n",
    "    \"São Felipe do Oeste\": \"Até 100 Milhões\",\n",
    "    \"Castanheiras\": \"Até 100 Milhões\",\n",
    "    \"Primavera de Rondônia\": \"Até 100 Milhões\"\n",
    "}"
   ]
  },
  {
   "cell_type": "code",
   "execution_count": 96,
   "metadata": {},
   "outputs": [
    {
     "data": {
      "text/html": [
       "<div>\n",
       "<style scoped>\n",
       "    .dataframe tbody tr th:only-of-type {\n",
       "        vertical-align: middle;\n",
       "    }\n",
       "\n",
       "    .dataframe tbody tr th {\n",
       "        vertical-align: top;\n",
       "    }\n",
       "\n",
       "    .dataframe thead th {\n",
       "        text-align: right;\n",
       "    }\n",
       "</style>\n",
       "<table border=\"1\" class=\"dataframe\">\n",
       "  <thead>\n",
       "    <tr style=\"text-align: right;\">\n",
       "      <th></th>\n",
       "      <th>sum</th>\n",
       "      <th>mean</th>\n",
       "      <th>min</th>\n",
       "      <th>max</th>\n",
       "      <th>median</th>\n",
       "      <th>std</th>\n",
       "      <th>var</th>\n",
       "    </tr>\n",
       "    <tr>\n",
       "      <th>munResNome</th>\n",
       "      <th></th>\n",
       "      <th></th>\n",
       "      <th></th>\n",
       "      <th></th>\n",
       "      <th></th>\n",
       "      <th></th>\n",
       "      <th></th>\n",
       "    </tr>\n",
       "  </thead>\n",
       "  <tbody>\n",
       "    <tr>\n",
       "      <th>Acima de 1 bilhão</th>\n",
       "      <td>465846</td>\n",
       "      <td>26.265562</td>\n",
       "      <td>12</td>\n",
       "      <td>47</td>\n",
       "      <td>26.0</td>\n",
       "      <td>6.403777</td>\n",
       "      <td>41.008357</td>\n",
       "    </tr>\n",
       "    <tr>\n",
       "      <th>Acima de 100 Milhões</th>\n",
       "      <td>47508</td>\n",
       "      <td>25.638424</td>\n",
       "      <td>12</td>\n",
       "      <td>52</td>\n",
       "      <td>25.0</td>\n",
       "      <td>6.324801</td>\n",
       "      <td>40.003102</td>\n",
       "    </tr>\n",
       "    <tr>\n",
       "      <th>Acima de 200 Milhões</th>\n",
       "      <td>13051</td>\n",
       "      <td>25.146435</td>\n",
       "      <td>13</td>\n",
       "      <td>41</td>\n",
       "      <td>25.0</td>\n",
       "      <td>5.905771</td>\n",
       "      <td>34.878129</td>\n",
       "    </tr>\n",
       "    <tr>\n",
       "      <th>Acima de 300 Milhões</th>\n",
       "      <td>32184</td>\n",
       "      <td>25.706070</td>\n",
       "      <td>11</td>\n",
       "      <td>47</td>\n",
       "      <td>25.0</td>\n",
       "      <td>6.344987</td>\n",
       "      <td>40.258860</td>\n",
       "    </tr>\n",
       "    <tr>\n",
       "      <th>Acima de 500 Milhões</th>\n",
       "      <td>86486</td>\n",
       "      <td>25.785927</td>\n",
       "      <td>13</td>\n",
       "      <td>53</td>\n",
       "      <td>25.0</td>\n",
       "      <td>6.479551</td>\n",
       "      <td>41.984580</td>\n",
       "    </tr>\n",
       "    <tr>\n",
       "      <th>Até 100 Milhões</th>\n",
       "      <td>9998</td>\n",
       "      <td>26.519894</td>\n",
       "      <td>14</td>\n",
       "      <td>41</td>\n",
       "      <td>26.0</td>\n",
       "      <td>5.877767</td>\n",
       "      <td>34.548140</td>\n",
       "    </tr>\n",
       "  </tbody>\n",
       "</table>\n",
       "</div>"
      ],
      "text/plain": [
       "                         sum       mean  min  max  median       std        var\n",
       "munResNome                                                                    \n",
       "Acima de 1 bilhão     465846  26.265562   12   47    26.0  6.403777  41.008357\n",
       "Acima de 100 Milhões   47508  25.638424   12   52    25.0  6.324801  40.003102\n",
       "Acima de 200 Milhões   13051  25.146435   13   41    25.0  5.905771  34.878129\n",
       "Acima de 300 Milhões   32184  25.706070   11   47    25.0  6.344987  40.258860\n",
       "Acima de 500 Milhões   86486  25.785927   13   53    25.0  6.479551  41.984580\n",
       "Até 100 Milhões         9998  26.519894   14   41    26.0  5.877767  34.548140"
      ]
     },
     "execution_count": 96,
     "metadata": {},
     "output_type": "execute_result"
    }
   ],
   "source": [
    "sinasc_raw.set_index('munResNome')['IDADEMAE'].groupby(PIB).agg(['sum', 'mean', 'min', 'max', 'median', 'std', 'var'])"
   ]
  },
  {
   "cell_type": "markdown",
   "metadata": {
    "id": "bdWGW_xtlTuI"
   },
   "source": [
    "### Analise as respostas encontradas, tire algum insight delas, conte pra gente algo encontrado nos dados."
   ]
  },
  {
   "cell_type": "markdown",
   "metadata": {
    "id": "shZvokfBlTuI"
   },
   "source": [
    "Exemplo:\n",
    "- Ah, descobri que a idade mediana das mulheres que deram a luz no ano de 2019 dos municipios com o PIB mais alto é a maior dentre todas."
   ]
  },
  {
   "cell_type": "code",
   "execution_count": 100,
   "metadata": {
    "id": "f8P7BYYglTuJ"
   },
   "outputs": [],
   "source": [
    "### A idade média da mãe parece ser similar entre os diferentes grupos de IDH, variando entre 25 e 26 anos.\n",
    "### O desvio padrão da idade da mãe é relativamente baixo, indicando que a maioria das mães se concentra em torno da idade média.\n",
    "### A média desses indicadores é ligeiramente inferior para o grupo com \"des_regular\", sugerindo um possível pior desempenho nesse grupo.\n",
    "### A média da idade da mãe parece ser relativamente constante entre os diferentes grupos de renda/população, com exceção do grupo \"Até 100 Milhões\", que apresenta uma idade média ligeiramente superior."
   ]
  },
  {
   "cell_type": "code",
   "execution_count": null,
   "metadata": {},
   "outputs": [],
   "source": []
  },
  {
   "cell_type": "code",
   "execution_count": null,
   "metadata": {},
   "outputs": [],
   "source": []
  },
  {
   "cell_type": "code",
   "execution_count": null,
   "metadata": {},
   "outputs": [],
   "source": []
  }
 ],
 "metadata": {
  "colab": {
   "provenance": []
  },
  "kernelspec": {
   "display_name": "Python 3 (ipykernel)",
   "language": "python",
   "name": "python3"
  },
  "language_info": {
   "codemirror_mode": {
    "name": "ipython",
    "version": 3
   },
   "file_extension": ".py",
   "mimetype": "text/x-python",
   "name": "python",
   "nbconvert_exporter": "python",
   "pygments_lexer": "ipython3",
   "version": "3.12.4"
  },
  "varInspector": {
   "cols": {
    "lenName": 16,
    "lenType": 16,
    "lenVar": 40
   },
   "kernels_config": {
    "python": {
     "delete_cmd_postfix": "",
     "delete_cmd_prefix": "del ",
     "library": "var_list.py",
     "varRefreshCmd": "print(var_dic_list())"
    },
    "r": {
     "delete_cmd_postfix": ") ",
     "delete_cmd_prefix": "rm(",
     "library": "var_list.r",
     "varRefreshCmd": "cat(var_dic_list()) "
    }
   },
   "types_to_exclude": [
    "module",
    "function",
    "builtin_function_or_method",
    "instance",
    "_Feature"
   ],
   "window_display": false
  }
 },
 "nbformat": 4,
 "nbformat_minor": 4
}
